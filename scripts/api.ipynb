{
 "cells": [
  {
   "cell_type": "markdown",
   "metadata": {},
   "source": [
    "### Import de Bibliotecas"
   ]
  },
  {
   "cell_type": "code",
   "execution_count": 7,
   "metadata": {},
   "outputs": [],
   "source": [
    "import requests\n",
    "import csv\n",
    "import shutil\n",
    "import os\n",
    "import pandas as pd\n",
    "import re"
   ]
  },
  {
   "cell_type": "markdown",
   "metadata": {},
   "source": [
    "### Requisição à API"
   ]
  },
  {
   "cell_type": "code",
   "execution_count": 8,
   "metadata": {},
   "outputs": [
    {
     "name": "stdout",
     "output_type": "stream",
     "text": [
      "dict_keys(['adult', 'backdrop_path', 'genre_ids', 'id', 'original_language', 'original_title', 'overview', 'popularity', 'poster_path', 'release_date', 'title', 'video', 'vote_average', 'vote_count'])\n",
      "---\n",
      "dict_keys(['adult', 'backdrop_path', 'genre_ids', 'id', 'original_language', 'original_title', 'overview', 'popularity', 'poster_path', 'release_date', 'title', 'video', 'vote_average', 'vote_count'])\n",
      "---\n",
      "dict_keys(['adult', 'backdrop_path', 'genre_ids', 'id', 'original_language', 'original_title', 'overview', 'popularity', 'poster_path', 'release_date', 'title', 'video', 'vote_average', 'vote_count'])\n",
      "---\n",
      "dict_keys(['adult', 'backdrop_path', 'genre_ids', 'id', 'original_language', 'original_title', 'overview', 'popularity', 'poster_path', 'release_date', 'title', 'video', 'vote_average', 'vote_count'])\n",
      "---\n",
      "dict_keys(['adult', 'backdrop_path', 'genre_ids', 'id', 'original_language', 'original_title', 'overview', 'popularity', 'poster_path', 'release_date', 'title', 'video', 'vote_average', 'vote_count'])\n",
      "---\n",
      "dict_keys(['adult', 'backdrop_path', 'genre_ids', 'id', 'original_language', 'original_title', 'overview', 'popularity', 'poster_path', 'release_date', 'title', 'video', 'vote_average', 'vote_count'])\n",
      "---\n",
      "dict_keys(['adult', 'backdrop_path', 'genre_ids', 'id', 'original_language', 'original_title', 'overview', 'popularity', 'poster_path', 'release_date', 'title', 'video', 'vote_average', 'vote_count'])\n",
      "---\n",
      "dict_keys(['adult', 'backdrop_path', 'genre_ids', 'id', 'original_language', 'original_title', 'overview', 'popularity', 'poster_path', 'release_date', 'title', 'video', 'vote_average', 'vote_count'])\n",
      "---\n",
      "dict_keys(['adult', 'backdrop_path', 'genre_ids', 'id', 'original_language', 'original_title', 'overview', 'popularity', 'poster_path', 'release_date', 'title', 'video', 'vote_average', 'vote_count'])\n",
      "---\n",
      "dict_keys(['adult', 'backdrop_path', 'genre_ids', 'id', 'original_language', 'original_title', 'overview', 'popularity', 'poster_path', 'release_date', 'title', 'video', 'vote_average', 'vote_count'])\n",
      "---\n",
      "dict_keys(['adult', 'backdrop_path', 'genre_ids', 'id', 'original_language', 'original_title', 'overview', 'popularity', 'poster_path', 'release_date', 'title', 'video', 'vote_average', 'vote_count'])\n",
      "---\n",
      "dict_keys(['adult', 'backdrop_path', 'genre_ids', 'id', 'original_language', 'original_title', 'overview', 'popularity', 'poster_path', 'release_date', 'title', 'video', 'vote_average', 'vote_count'])\n",
      "---\n",
      "dict_keys(['adult', 'backdrop_path', 'genre_ids', 'id', 'original_language', 'original_title', 'overview', 'popularity', 'poster_path', 'release_date', 'title', 'video', 'vote_average', 'vote_count'])\n",
      "---\n",
      "dict_keys(['adult', 'backdrop_path', 'genre_ids', 'id', 'original_language', 'original_title', 'overview', 'popularity', 'poster_path', 'release_date', 'title', 'video', 'vote_average', 'vote_count'])\n",
      "---\n",
      "dict_keys(['adult', 'backdrop_path', 'genre_ids', 'id', 'original_language', 'original_title', 'overview', 'popularity', 'poster_path', 'release_date', 'title', 'video', 'vote_average', 'vote_count'])\n",
      "---\n",
      "dict_keys(['adult', 'backdrop_path', 'genre_ids', 'id', 'original_language', 'original_title', 'overview', 'popularity', 'poster_path', 'release_date', 'title', 'video', 'vote_average', 'vote_count'])\n",
      "---\n",
      "dict_keys(['adult', 'backdrop_path', 'genre_ids', 'id', 'original_language', 'original_title', 'overview', 'popularity', 'poster_path', 'release_date', 'title', 'video', 'vote_average', 'vote_count'])\n",
      "---\n",
      "dict_keys(['adult', 'backdrop_path', 'genre_ids', 'id', 'original_language', 'original_title', 'overview', 'popularity', 'poster_path', 'release_date', 'title', 'video', 'vote_average', 'vote_count'])\n",
      "---\n",
      "dict_keys(['adult', 'backdrop_path', 'genre_ids', 'id', 'original_language', 'original_title', 'overview', 'popularity', 'poster_path', 'release_date', 'title', 'video', 'vote_average', 'vote_count'])\n",
      "---\n",
      "dict_keys(['adult', 'backdrop_path', 'genre_ids', 'id', 'original_language', 'original_title', 'overview', 'popularity', 'poster_path', 'release_date', 'title', 'video', 'vote_average', 'vote_count'])\n",
      "---\n"
     ]
    }
   ],
   "source": [
    "# Substitua pela sua chave de API\n",
    "api_key = 'c90c917f98d91bd0c1fd096a6b77ab58'\n",
    "\n",
    "# URL para acessar a API do TMDB\n",
    "url = f\"https://api.themoviedb.org/3/movie/popular?api_key={api_key}&language=pt-BR&page=1\"\n",
    "\n",
    "# Fazendo a requisição à API\n",
    "response = requests.get(url)\n",
    "\n",
    "# Verificando se a requisição foi bem-sucedida (código 200)\n",
    "if response.status_code == 200:\n",
    "    data = response.json()    \n",
    "    \n",
    "    if 'results' in data:\n",
    "        for movie in data['results']:            \n",
    "            print(movie.keys())\n",
    "            print('---')\n",
    "    else:\n",
    "        print(\"Erro: O campo 'results' não foi encontrado na resposta da API.\")\n",
    "else:\n",
    "    print(f\"Erro: Não foi possível acessar a API. Código de status: {response.status_code}\")"
   ]
  },
  {
   "cell_type": "markdown",
   "metadata": {},
   "source": [
    "### Extração em CSV dos dados da API"
   ]
  },
  {
   "cell_type": "code",
   "execution_count": 9,
   "metadata": {},
   "outputs": [
    {
     "name": "stdout",
     "output_type": "stream",
     "text": [
      "Dados salvos no arquivo movies.csv\n",
      "Arquivo movido para C://Users//Miza//Desktop//CoderHouse//TMDB_API//Arquivos\\movies.csv\n",
      "                                               title release_date  popularity  \\\n",
      "0    Borderlands: O Destino do Universo Está em Jogo   2024-08-07    3326.154   \n",
      "1                               Deadpool & Wolverine   2024-07-24    3246.173   \n",
      "2                                         The Killer   2024-08-22    1984.257   \n",
      "3  Os Fantasmas Ainda se Divertem: Beetlejuice Be...   2024-09-04    1906.499   \n",
      "4                                  Divertida Mente 2   2024-06-11    1641.740   \n",
      "\n",
      "   vote_average  vote_count              genre_ids       id original_language  \\\n",
      "0         5.843         417  [28, 878, 35, 12, 53]   365177                en   \n",
      "1         7.700        2759          [28, 35, 878]   533535                en   \n",
      "2         6.510         149           [28, 53, 80]   970347                en   \n",
      "3         7.254         236           [35, 27, 14]   917496                en   \n",
      "4         7.680        3429    [16, 10751, 12, 35]  1022789                en   \n",
      "\n",
      "   adult                                           overview  \n",
      "0  False  Uma infame caçadora de recompensas retorna ao ...  \n",
      "1  False  Um apático Wade Wilson trabalha duro na vida c...  \n",
      "2  False  Um assassino tenta fazer as pazes em um esforç...  \n",
      "3  False  Depois de uma tragédia familiar inesperada, tr...  \n",
      "4  False  \"Divertida Mente 2\", da Disney e da Pixar, ret...  \n"
     ]
    }
   ],
   "source": [
    "# Substitua pela sua chave de API\n",
    "api_key = 'c90c917f98d91bd0c1fd096a6b77ab58'\n",
    "base_url = 'https://api.themoviedb.org/3/movie/popular'\n",
    "\n",
    "# Nome do arquivo\n",
    "file_name = \"movies.csv\"\n",
    "\n",
    "# Diretório de destino\n",
    "destination_dir = \"C://Users//Miza//Desktop//CoderHouse//TMDB_API//Arquivos\"\n",
    "\n",
    "# Campos que você deseja salvar no CSV\n",
    "fields = ['title', 'release_date', 'popularity', 'vote_average', 'vote_count', 'genre_ids', 'id', 'original_language', 'adult', 'overview']\n",
    "\n",
    "# Função para buscar filmes da API e salvar no CSV\n",
    "def fetch_movies_to_csv():\n",
    "    movies = []\n",
    "    \n",
    "    for page in range(1, 51):  # Acesso as páginas da API\n",
    "        params = {\n",
    "            'api_key': api_key,\n",
    "            'language': 'pt-BR',\n",
    "            'page': page\n",
    "        }\n",
    "        \n",
    "        response = requests.get(base_url, params=params)\n",
    "        \n",
    "        if response.status_code == 200:\n",
    "            data = response.json()\n",
    "            if 'results' in data:\n",
    "                for movie in data['results']:\n",
    "                    movies.append({\n",
    "                        'title': movie.get('title', 'Título não disponível'),\n",
    "                        'release_date': movie.get('release_date', None),\n",
    "                        'popularity': movie.get('popularity', None),\n",
    "                        'vote_average': movie.get('vote_average', None),\n",
    "                        'vote_count': movie.get('vote_count', None),\n",
    "                        'genre_ids': movie.get('genre_ids', []),\n",
    "                        'id': movie.get('id', None),\n",
    "                        'original_language': movie.get('original_language', None),\n",
    "                        'adult': movie.get('adult', None),\n",
    "                        'overview': movie.get('overview', 'Sinopse não disponível')\n",
    "                    })\n",
    "        else:\n",
    "            print(f\"Erro ao acessar API: {response.status_code}\")\n",
    "    \n",
    "    # Salvando os dados em um arquivo CSV\n",
    "    with open(file_name, mode='w', newline='', encoding='utf-8') as file:\n",
    "        writer = csv.DictWriter(file, fieldnames=fields)\n",
    "        writer.writeheader()\n",
    "        writer.writerows(movies)\n",
    "    \n",
    "    print(f\"Dados salvos no arquivo {file_name}\")\n",
    "    \n",
    "    # Movendo o arquivo para o diretório de destino\n",
    "    destination_path = os.path.join(destination_dir, file_name)\n",
    "    shutil.move(file_name, destination_path)\n",
    "    print(f\"Arquivo movido para {destination_path}\")\n",
    "    \n",
    "# Função para ler o arquivo CSV com pandas\n",
    "def read_csv_with_pandas():\n",
    "    file_path = os.path.join(destination_dir, file_name)\n",
    "    try:\n",
    "        df = pd.read_csv(file_path, encoding='utf-8', sep=',')\n",
    "        print(df.head())          \n",
    "    except Exception as e:\n",
    "        print(f\"Erro ao ler o arquivo: {e}\")\n",
    "\n",
    "# Rodando o script\n",
    "fetch_movies_to_csv()\n",
    "\n",
    "# Ler o CSV com pandas\n",
    "read_csv_with_pandas()\n"
   ]
  },
  {
   "cell_type": "markdown",
   "metadata": {},
   "source": [
    "### Limpar e transformar o Arquivo para Excel"
   ]
  },
  {
   "cell_type": "code",
   "execution_count": 10,
   "metadata": {},
   "outputs": [
    {
     "name": "stdout",
     "output_type": "stream",
     "text": [
      "Arquivo Excel salvo em C://Users//Miza//Desktop//CoderHouse//TMDB_API//Arquivos//movies.xlsx, e o CSV foi removido.\n"
     ]
    }
   ],
   "source": [
    "# Nome do arquivo CSV gerado\n",
    "csv_file = \"C://Users//Miza//Desktop//CoderHouse//TMDB_API//Arquivos//movies.csv\"\n",
    "excel_file = \"C://Users//Miza//Desktop//CoderHouse//TMDB_API//Arquivos//movies.xlsx\"\n",
    "\n",
    "# Função para verificar se a string é uma data válida no formato AAAA-MM-DD\n",
    "def is_valid_date(date_str):\n",
    "    return bool(re.match(r'^\\d{4}-\\d{2}-\\d{2}$', date_str))\n",
    "\n",
    "# Ler o arquivo CSV com pandas\n",
    "df = pd.read_csv(csv_file, encoding='utf-8')\n",
    "\n",
    "# Remover caracteres especiais\n",
    "df = df.replace({r'[^\\x00-\\x7F]+': ''}, regex=True)\n",
    "\n",
    "# Filtrar a coluna 'release_date' para manter apenas datas válidas\n",
    "df = df[df['release_date'].apply(lambda x: is_valid_date(str(x)))]\n",
    "\n",
    "# Remover linhas onde a coluna 'title' estiver vazia\n",
    "df = df[df['title'].notna() & df['title'].str.strip().astype(bool)]\n",
    "\n",
    "# Salvar o arquivo em formato Excel\n",
    "df.to_excel(excel_file, index=False)\n",
    "\n",
    "# Remover o arquivo CSV original após a conversão\n",
    "if os.path.exists(csv_file):\n",
    "    os.remove(csv_file)\n",
    "\n",
    "print(f\"Arquivo Excel salvo em {excel_file}, e o CSV foi removido.\")\n"
   ]
  }
 ],
 "metadata": {
  "kernelspec": {
   "display_name": "Python 3",
   "language": "python",
   "name": "python3"
  },
  "language_info": {
   "codemirror_mode": {
    "name": "ipython",
    "version": 3
   },
   "file_extension": ".py",
   "mimetype": "text/x-python",
   "name": "python",
   "nbconvert_exporter": "python",
   "pygments_lexer": "ipython3",
   "version": "3.12.2"
  }
 },
 "nbformat": 4,
 "nbformat_minor": 2
}
