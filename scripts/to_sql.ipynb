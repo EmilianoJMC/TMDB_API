{
 "cells": [
  {
   "cell_type": "markdown",
   "metadata": {},
   "source": [
    "### Import de Bibliotecas"
   ]
  },
  {
   "cell_type": "code",
   "execution_count": 5,
   "metadata": {},
   "outputs": [],
   "source": [
    "import pandas as pd\n",
    "import pymysql\n",
    "from sqlalchemy import create_engine\n",
    "import urllib.parse"
   ]
  },
  {
   "cell_type": "markdown",
   "metadata": {},
   "source": [
    "### Inserção do Arquivo ao DB MySQL"
   ]
  },
  {
   "cell_type": "code",
   "execution_count": 6,
   "metadata": {},
   "outputs": [
    {
     "name": "stdout",
     "output_type": "stream",
     "text": [
      "Efetuado coenxão ao DB\n",
      "Dados inseridos no banco de dados MySQL com sucesso!\n"
     ]
    }
   ],
   "source": [
    "# Nome do arquivo Excel\n",
    "excel_file = \"C://Users//Miza//Desktop//CoderHouse//TMDB_API//Arquivos//movies.xlsx\"\n",
    "\n",
    "# Ler o arquivo Excel com pandas\n",
    "df = pd.read_excel(excel_file)\n",
    "\n",
    "# Remover possíveis linhas com valores nulos (opcional)\n",
    "df = df.dropna()\n",
    "\n",
    "# Parâmetros de conexão\n",
    "usuario = \"root\"\n",
    "senha = \"Are@0051\"\n",
    "host = \"localhost\"  \n",
    "nome_do_banco = \"tmdb\"\n",
    "\n",
    "senha_codificada = urllib.parse.quote_plus(senha)\n",
    "\n",
    "conexao_string = f\"mysql+pymysql://{usuario}:{senha_codificada}@{host}/{nome_do_banco}\"\n",
    "\n",
    "engine = create_engine(conexao_string)\n",
    "\n",
    "print(\"Efetuado coenxão ao DB\")\n",
    "\n",
    "# Inserir os dados no banco de dados MySQL\n",
    "# Se a tabela não existir, pandas criará a tabela automaticamente\n",
    "df.to_sql('filmes_populares_tmdb', con=engine, if_exists='replace', index=False)\n",
    "\n",
    "print(\"Dados inseridos no banco de dados MySQL com sucesso!\")\n"
   ]
  }
 ],
 "metadata": {
  "kernelspec": {
   "display_name": "Python 3",
   "language": "python",
   "name": "python3"
  },
  "language_info": {
   "codemirror_mode": {
    "name": "ipython",
    "version": 3
   },
   "file_extension": ".py",
   "mimetype": "text/x-python",
   "name": "python",
   "nbconvert_exporter": "python",
   "pygments_lexer": "ipython3",
   "version": "3.12.2"
  }
 },
 "nbformat": 4,
 "nbformat_minor": 2
}
