{
 "cells": [
  {
   "cell_type": "code",
   "execution_count": 8,
   "metadata": {},
   "outputs": [],
   "source": [
    "import requests\n",
    "import mysql.connector\n",
    "from mysql.connector import Error"
   ]
  },
  {
   "cell_type": "code",
   "execution_count": null,
   "metadata": {},
   "outputs": [],
   "source": [
    "\n",
    "#Substitua pela sua chave de API\n",
    "api_key = 'c90c917f98d91bd0c1fd096a6b77ab58'\n",
    "\n",
    "#URL para acessar a API do TMDB\n",
    "url = f\"https://api.themoviedb.org/3/movie/popular?api_key={api_key}&language=pt-BR&page=1\"\n",
    "\n",
    "#Fazendo a requisição à API\n",
    "response = requests.get(url)\n",
    "\n",
    "#Verificando se a requisição foi bem-sucedida (código 200)\n",
    "if response.status_code == 200:\n",
    "    data = response.json()\n",
    "    \n",
    "    #Verificando se o campo 'results' está presente nos dados\n",
    "    if 'results' in data:        \n",
    "        for movie in data['results']:\n",
    "            titulo = movie.get('title', 'Título não disponível')\n",
    "            data_lancamento = movie.get('release_date', 'Data de lançamento não disponível')\n",
    "            popularidade = movie.get('popularity', 'Popularidade não disponível')\n",
    "            sinopse = movie.get('overview', 'Sinopse não disponível')\n",
    "            nota = movie.get('vote_average', 'Nota não disponível')\n",
    "            \n",
    "            print(f\"Título: {titulo}\")\n",
    "            print(f\"Data de lançamento: {data_lancamento}\")\n",
    "            print(f\"Popularidade: {popularidade}\")\n",
    "            print(f\"Sinopse: {sinopse}\")\n",
    "            print(f\"Nota: {nota}\")\n",
    "            print('---')\n",
    "    else:\n",
    "        print(\"Erro: O campo 'results' não foi encontrado na resposta da API.\")\n",
    "else:\n",
    "    print(f\"Erro: Não foi possível acessar a API. Código de status: {response.status_code}\")\n"
   ]
  },
  {
   "cell_type": "code",
   "execution_count": null,
   "metadata": {},
   "outputs": [],
   "source": [
    "# Função para conectar ao MySQL\n",
    "def connect_to_mysql():\n",
    "    try:\n",
    "        connection = mysql.connector.connect(\n",
    "            host='localhost',\n",
    "            database='dataset_TMDB',\n",
    "            user='host',\n",
    "            password='Are@0051'\n",
    "        )\n",
    "        if connection.is_connected():\n",
    "            print(\"Conectado ao MySQL\")\n",
    "            return connection\n",
    "    except Error as e:\n",
    "        print(f\"Erro ao conectar ao MySQL: {e}\")\n",
    "        return None"
   ]
  },
  {
   "cell_type": "code",
   "execution_count": null,
   "metadata": {},
   "outputs": [],
   "source": [
    "\n",
    "\n",
    "# Função para inserir dados no MySQL\n",
    "def insert_movie_data(connection, movie):\n",
    "    try:\n",
    "        cursor = connection.cursor()\n",
    "        insert_query = \"\"\"\n",
    "        INSERT INTO filmes_populares_TMDB (titulo, data_lancamento, popularidade, sinopse, nota)\n",
    "        VALUES (%s, %s, %s, %s, %s)\n",
    "        \"\"\"\n",
    "        data_tuple = (movie['title'], movie['release_date'], movie['popularity'], movie['overview'], movie['vote_average'])\n",
    "        cursor.execute(insert_query, data_tuple)\n",
    "        connection.commit()\n",
    "        print(f\"Filme '{movie['title']}' inserido com sucesso!\")\n",
    "    except Error as e:\n",
    "        print(f\"Erro ao inserir dados no MySQL: {e}\")\n",
    "\n",
    "# Substitua pela sua chave de API\n",
    "api_key = 'c90c917f98d91bd0c1fd096a6b77ab58'\n",
    "\n",
    "# URL para acessar a API do TMDB\n",
    "url = f\"https://api.themoviedb.org/3/movie/popular?api_key={api_key}&language=pt-BR&page=1\"\n",
    "\n",
    "# Fazendo a requisição à API\n",
    "response = requests.get(url)\n",
    "data = response.json()\n",
    "\n",
    "# Conectar ao banco de dados\n",
    "connection = connect_to_mysql()\n",
    "\n",
    "# Inserir dados no MySQL\n",
    "if connection:\n",
    "    for movie in data['results']:\n",
    "        insert_movie_data(connection, movie)\n",
    "\n",
    "    # Fechar a conexão\n",
    "    connection.close()\n"
   ]
  }
 ],
 "metadata": {
  "kernelspec": {
   "display_name": "Python 3",
   "language": "python",
   "name": "python3"
  },
  "language_info": {
   "codemirror_mode": {
    "name": "ipython",
    "version": 3
   },
   "file_extension": ".py",
   "mimetype": "text/x-python",
   "name": "python",
   "nbconvert_exporter": "python",
   "pygments_lexer": "ipython3",
   "version": "3.12.2"
  }
 },
 "nbformat": 4,
 "nbformat_minor": 2
}
